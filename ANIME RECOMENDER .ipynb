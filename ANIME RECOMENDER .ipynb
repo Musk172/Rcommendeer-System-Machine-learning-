{
 "cells": [
  {
   "cell_type": "code",
   "execution_count": 1,
   "id": "c9a66e3d",
   "metadata": {},
   "outputs": [],
   "source": [
    "# Importing important libraries\n",
    "\n",
    "import pandas as pd\n",
    "import numpy as np\n",
    "import matplotlib.pyplot as plt\n",
    "import seaborn as sns\n",
    "%matplotlib inline"
   ]
  },
  {
   "cell_type": "code",
   "execution_count": 2,
   "id": "a9fe85df",
   "metadata": {},
   "outputs": [],
   "source": [
    "# Loading Data set\n",
    "\n",
    "anime_original = pd.read_csv('anime.csv')"
   ]
  },
  {
   "cell_type": "code",
   "execution_count": 3,
   "id": "85ada408",
   "metadata": {},
   "outputs": [
    {
     "data": {
      "text/html": [
       "<div>\n",
       "<style scoped>\n",
       "    .dataframe tbody tr th:only-of-type {\n",
       "        vertical-align: middle;\n",
       "    }\n",
       "\n",
       "    .dataframe tbody tr th {\n",
       "        vertical-align: top;\n",
       "    }\n",
       "\n",
       "    .dataframe thead th {\n",
       "        text-align: right;\n",
       "    }\n",
       "</style>\n",
       "<table border=\"1\" class=\"dataframe\">\n",
       "  <thead>\n",
       "    <tr style=\"text-align: right;\">\n",
       "      <th></th>\n",
       "      <th>MAL_ID</th>\n",
       "      <th>Name</th>\n",
       "      <th>Score</th>\n",
       "      <th>Genres</th>\n",
       "      <th>English name</th>\n",
       "      <th>Japanese name</th>\n",
       "      <th>Type</th>\n",
       "      <th>Episodes</th>\n",
       "      <th>Aired</th>\n",
       "      <th>Premiered</th>\n",
       "      <th>...</th>\n",
       "      <th>Score-8</th>\n",
       "      <th>Score-7</th>\n",
       "      <th>Score-6</th>\n",
       "      <th>Score-5</th>\n",
       "      <th>Score-4</th>\n",
       "      <th>Score-3</th>\n",
       "      <th>Score-2</th>\n",
       "      <th>Score-1</th>\n",
       "      <th>Unnamed: 35</th>\n",
       "      <th>Average score</th>\n",
       "    </tr>\n",
       "  </thead>\n",
       "  <tbody>\n",
       "    <tr>\n",
       "      <th>0</th>\n",
       "      <td>1</td>\n",
       "      <td>Cowboy Bebop</td>\n",
       "      <td>8.78</td>\n",
       "      <td>Action, Adventure, Comedy, Drama, Sci-Fi, Space</td>\n",
       "      <td>Cowboy Bebop</td>\n",
       "      <td>カウボーイビバップ</td>\n",
       "      <td>TV</td>\n",
       "      <td>26</td>\n",
       "      <td>Apr 3, 1998 to Apr 24, 1999</td>\n",
       "      <td>Spring 1998</td>\n",
       "      <td>...</td>\n",
       "      <td>131625</td>\n",
       "      <td>62330</td>\n",
       "      <td>20688</td>\n",
       "      <td>8904</td>\n",
       "      <td>3184</td>\n",
       "      <td>1357</td>\n",
       "      <td>741</td>\n",
       "      <td>1580</td>\n",
       "      <td>NaN</td>\n",
       "      <td>64170.5</td>\n",
       "    </tr>\n",
       "    <tr>\n",
       "      <th>1</th>\n",
       "      <td>5</td>\n",
       "      <td>Cowboy Bebop: Tengoku no Tobira</td>\n",
       "      <td>8.39</td>\n",
       "      <td>Action, Drama, Mystery, Sci-Fi, Space</td>\n",
       "      <td>Cowboy Bebop:The Movie</td>\n",
       "      <td>カウボーイビバップ 天国の扉</td>\n",
       "      <td>Movie</td>\n",
       "      <td>1</td>\n",
       "      <td>Sep 1, 2001</td>\n",
       "      <td>Unknown</td>\n",
       "      <td>...</td>\n",
       "      <td>49505</td>\n",
       "      <td>22632</td>\n",
       "      <td>5805</td>\n",
       "      <td>1877</td>\n",
       "      <td>577</td>\n",
       "      <td>221</td>\n",
       "      <td>109</td>\n",
       "      <td>379</td>\n",
       "      <td>NaN</td>\n",
       "      <td>16034.9</td>\n",
       "    </tr>\n",
       "    <tr>\n",
       "      <th>2</th>\n",
       "      <td>6</td>\n",
       "      <td>Trigun</td>\n",
       "      <td>8.24</td>\n",
       "      <td>Action, Sci-Fi, Adventure, Comedy, Drama, Shounen</td>\n",
       "      <td>Trigun</td>\n",
       "      <td>トライガン</td>\n",
       "      <td>TV</td>\n",
       "      <td>26</td>\n",
       "      <td>Apr 1, 1998 to Sep 30, 1998</td>\n",
       "      <td>Spring 1998</td>\n",
       "      <td>...</td>\n",
       "      <td>86142</td>\n",
       "      <td>49432</td>\n",
       "      <td>15376</td>\n",
       "      <td>5838</td>\n",
       "      <td>1965</td>\n",
       "      <td>664</td>\n",
       "      <td>316</td>\n",
       "      <td>533</td>\n",
       "      <td>NaN</td>\n",
       "      <td>28614.6</td>\n",
       "    </tr>\n",
       "    <tr>\n",
       "      <th>3</th>\n",
       "      <td>7</td>\n",
       "      <td>Witch Hunter Robin</td>\n",
       "      <td>7.27</td>\n",
       "      <td>Action, Mystery, Police, Supernatural, Drama, ...</td>\n",
       "      <td>Witch Hunter Robin</td>\n",
       "      <td>Witch Hunter ROBIN (ウイッチハンターロビン)</td>\n",
       "      <td>TV</td>\n",
       "      <td>26</td>\n",
       "      <td>Jul 2, 2002 to Dec 24, 2002</td>\n",
       "      <td>Summer 2002</td>\n",
       "      <td>...</td>\n",
       "      <td>10128</td>\n",
       "      <td>11618</td>\n",
       "      <td>5709</td>\n",
       "      <td>2920</td>\n",
       "      <td>1083</td>\n",
       "      <td>353</td>\n",
       "      <td>164</td>\n",
       "      <td>131</td>\n",
       "      <td>NaN</td>\n",
       "      <td>3909.4</td>\n",
       "    </tr>\n",
       "    <tr>\n",
       "      <th>4</th>\n",
       "      <td>8</td>\n",
       "      <td>Bouken Ou Beet</td>\n",
       "      <td>6.98</td>\n",
       "      <td>Adventure, Fantasy, Shounen, Supernatural</td>\n",
       "      <td>Beet the Vandel Buster</td>\n",
       "      <td>冒険王ビィト</td>\n",
       "      <td>TV</td>\n",
       "      <td>52</td>\n",
       "      <td>Sep 30, 2004 to Sep 29, 2005</td>\n",
       "      <td>Fall 2004</td>\n",
       "      <td>...</td>\n",
       "      <td>1242</td>\n",
       "      <td>1713</td>\n",
       "      <td>1068</td>\n",
       "      <td>634</td>\n",
       "      <td>265</td>\n",
       "      <td>83</td>\n",
       "      <td>50</td>\n",
       "      <td>27</td>\n",
       "      <td>NaN</td>\n",
       "      <td>592.3</td>\n",
       "    </tr>\n",
       "  </tbody>\n",
       "</table>\n",
       "<p>5 rows × 37 columns</p>\n",
       "</div>"
      ],
      "text/plain": [
       "   MAL_ID                             Name Score  \\\n",
       "0       1                     Cowboy Bebop  8.78   \n",
       "1       5  Cowboy Bebop: Tengoku no Tobira  8.39   \n",
       "2       6                           Trigun  8.24   \n",
       "3       7               Witch Hunter Robin  7.27   \n",
       "4       8                   Bouken Ou Beet  6.98   \n",
       "\n",
       "                                              Genres            English name  \\\n",
       "0    Action, Adventure, Comedy, Drama, Sci-Fi, Space            Cowboy Bebop   \n",
       "1              Action, Drama, Mystery, Sci-Fi, Space  Cowboy Bebop:The Movie   \n",
       "2  Action, Sci-Fi, Adventure, Comedy, Drama, Shounen                  Trigun   \n",
       "3  Action, Mystery, Police, Supernatural, Drama, ...      Witch Hunter Robin   \n",
       "4          Adventure, Fantasy, Shounen, Supernatural  Beet the Vandel Buster   \n",
       "\n",
       "                      Japanese name   Type Episodes  \\\n",
       "0                         カウボーイビバップ     TV       26   \n",
       "1                    カウボーイビバップ 天国の扉  Movie        1   \n",
       "2                             トライガン     TV       26   \n",
       "3  Witch Hunter ROBIN (ウイッチハンターロビン)     TV       26   \n",
       "4                            冒険王ビィト     TV       52   \n",
       "\n",
       "                          Aired    Premiered  ... Score-8 Score-7 Score-6  \\\n",
       "0   Apr 3, 1998 to Apr 24, 1999  Spring 1998  ...  131625   62330   20688   \n",
       "1                   Sep 1, 2001      Unknown  ...   49505   22632    5805   \n",
       "2   Apr 1, 1998 to Sep 30, 1998  Spring 1998  ...   86142   49432   15376   \n",
       "3   Jul 2, 2002 to Dec 24, 2002  Summer 2002  ...   10128   11618    5709   \n",
       "4  Sep 30, 2004 to Sep 29, 2005    Fall 2004  ...    1242    1713    1068   \n",
       "\n",
       "  Score-5 Score-4 Score-3 Score-2  Score-1  Unnamed: 35  Average score  \n",
       "0    8904    3184    1357     741     1580          NaN        64170.5  \n",
       "1    1877     577     221     109      379          NaN        16034.9  \n",
       "2    5838    1965     664     316      533          NaN        28614.6  \n",
       "3    2920    1083     353     164      131          NaN         3909.4  \n",
       "4     634     265      83      50       27          NaN          592.3  \n",
       "\n",
       "[5 rows x 37 columns]"
      ]
     },
     "execution_count": 3,
     "metadata": {},
     "output_type": "execute_result"
    }
   ],
   "source": [
    "anime_original.head()"
   ]
  },
  {
   "cell_type": "code",
   "execution_count": 4,
   "id": "debc5f1f",
   "metadata": {},
   "outputs": [
    {
     "data": {
      "text/plain": [
       "Index(['MAL_ID', 'Name', 'Score', 'Genres', 'English name', 'Japanese name',\n",
       "       'Type', 'Episodes', 'Aired', 'Premiered', 'Producers', 'Licensors',\n",
       "       'Studios', 'Source', 'Duration', 'Rating', 'Ranked', 'Popularity',\n",
       "       'Members', 'Favorites', 'Watching', 'Completed', 'On-Hold', 'Dropped',\n",
       "       'Plan to Watch', 'Score-10', 'Score-9', 'Score-8', 'Score-7', 'Score-6',\n",
       "       'Score-5', 'Score-4', 'Score-3', 'Score-2', 'Score-1', 'Unnamed: 35',\n",
       "       'Average score'],\n",
       "      dtype='object')"
      ]
     },
     "execution_count": 4,
     "metadata": {},
     "output_type": "execute_result"
    }
   ],
   "source": [
    "anime_original.columns"
   ]
  },
  {
   "cell_type": "code",
   "execution_count": 5,
   "id": "710d0be1",
   "metadata": {},
   "outputs": [
    {
     "data": {
      "text/html": [
       "<div>\n",
       "<style scoped>\n",
       "    .dataframe tbody tr th:only-of-type {\n",
       "        vertical-align: middle;\n",
       "    }\n",
       "\n",
       "    .dataframe tbody tr th {\n",
       "        vertical-align: top;\n",
       "    }\n",
       "\n",
       "    .dataframe thead th {\n",
       "        text-align: right;\n",
       "    }\n",
       "</style>\n",
       "<table border=\"1\" class=\"dataframe\">\n",
       "  <thead>\n",
       "    <tr style=\"text-align: right;\">\n",
       "      <th></th>\n",
       "      <th>Name</th>\n",
       "      <th>Genres</th>\n",
       "      <th>Producers</th>\n",
       "      <th>Licensors</th>\n",
       "      <th>Studios</th>\n",
       "    </tr>\n",
       "  </thead>\n",
       "  <tbody>\n",
       "    <tr>\n",
       "      <th>0</th>\n",
       "      <td>Cowboy Bebop</td>\n",
       "      <td>Action, Adventure, Comedy, Drama, Sci-Fi, Space</td>\n",
       "      <td>Bandai Visual</td>\n",
       "      <td>Funimation, Bandai Entertainment</td>\n",
       "      <td>Sunrise</td>\n",
       "    </tr>\n",
       "    <tr>\n",
       "      <th>1</th>\n",
       "      <td>Cowboy Bebop: Tengoku no Tobira</td>\n",
       "      <td>Action, Drama, Mystery, Sci-Fi, Space</td>\n",
       "      <td>Sunrise, Bandai Visual</td>\n",
       "      <td>Sony Pictures Entertainment</td>\n",
       "      <td>Bones</td>\n",
       "    </tr>\n",
       "    <tr>\n",
       "      <th>2</th>\n",
       "      <td>Trigun</td>\n",
       "      <td>Action, Sci-Fi, Adventure, Comedy, Drama, Shounen</td>\n",
       "      <td>Victor Entertainment</td>\n",
       "      <td>Funimation, Geneon Entertainment USA</td>\n",
       "      <td>Madhouse</td>\n",
       "    </tr>\n",
       "    <tr>\n",
       "      <th>3</th>\n",
       "      <td>Witch Hunter Robin</td>\n",
       "      <td>Action, Mystery, Police, Supernatural, Drama, ...</td>\n",
       "      <td>TV Tokyo, Bandai Visual, Dentsu, Victor Entert...</td>\n",
       "      <td>Funimation, Bandai Entertainment</td>\n",
       "      <td>Sunrise</td>\n",
       "    </tr>\n",
       "    <tr>\n",
       "      <th>4</th>\n",
       "      <td>Bouken Ou Beet</td>\n",
       "      <td>Adventure, Fantasy, Shounen, Supernatural</td>\n",
       "      <td>TV Tokyo, Dentsu</td>\n",
       "      <td>Unknown</td>\n",
       "      <td>Toei Animation</td>\n",
       "    </tr>\n",
       "  </tbody>\n",
       "</table>\n",
       "</div>"
      ],
      "text/plain": [
       "                              Name  \\\n",
       "0                     Cowboy Bebop   \n",
       "1  Cowboy Bebop: Tengoku no Tobira   \n",
       "2                           Trigun   \n",
       "3               Witch Hunter Robin   \n",
       "4                   Bouken Ou Beet   \n",
       "\n",
       "                                              Genres  \\\n",
       "0    Action, Adventure, Comedy, Drama, Sci-Fi, Space   \n",
       "1              Action, Drama, Mystery, Sci-Fi, Space   \n",
       "2  Action, Sci-Fi, Adventure, Comedy, Drama, Shounen   \n",
       "3  Action, Mystery, Police, Supernatural, Drama, ...   \n",
       "4          Adventure, Fantasy, Shounen, Supernatural   \n",
       "\n",
       "                                           Producers  \\\n",
       "0                                      Bandai Visual   \n",
       "1                             Sunrise, Bandai Visual   \n",
       "2                               Victor Entertainment   \n",
       "3  TV Tokyo, Bandai Visual, Dentsu, Victor Entert...   \n",
       "4                                   TV Tokyo, Dentsu   \n",
       "\n",
       "                              Licensors         Studios  \n",
       "0      Funimation, Bandai Entertainment         Sunrise  \n",
       "1           Sony Pictures Entertainment           Bones  \n",
       "2  Funimation, Geneon Entertainment USA        Madhouse  \n",
       "3      Funimation, Bandai Entertainment         Sunrise  \n",
       "4                               Unknown  Toei Animation  "
      ]
     },
     "execution_count": 5,
     "metadata": {},
     "output_type": "execute_result"
    }
   ],
   "source": [
    "# recomendation basesd on Genres,producers and studios\n",
    "\n",
    "anime_1 = anime_original[[\"Name\",\"Genres\",\"Producers\",\"Licensors\",\"Studios\"]]\n",
    "anime_1.head()"
   ]
  },
  {
   "cell_type": "code",
   "execution_count": 6,
   "id": "4039722c",
   "metadata": {},
   "outputs": [
    {
     "data": {
      "text/plain": [
       "'TV Tokyo, Bandai Visual, Dentsu, Victor Entertainment'"
      ]
     },
     "execution_count": 6,
     "metadata": {},
     "output_type": "execute_result"
    }
   ],
   "source": [
    "x = anime_1[\"Producers\"][3]\n",
    "x"
   ]
  },
  {
   "cell_type": "code",
   "execution_count": 7,
   "id": "2b1d77f5",
   "metadata": {},
   "outputs": [],
   "source": [
    "# Removing spaces between the words\n",
    " \n",
    "def space(obj):\n",
    "    return obj.replace(' ','')"
   ]
  },
  {
   "cell_type": "code",
   "execution_count": 8,
   "id": "b3e5ec25",
   "metadata": {},
   "outputs": [
    {
     "name": "stderr",
     "output_type": "stream",
     "text": [
      "C:\\Users\\PRITAM VERMA\\AppData\\Local\\Temp\\ipykernel_10396\\2035916290.py:2: SettingWithCopyWarning: \n",
      "A value is trying to be set on a copy of a slice from a DataFrame.\n",
      "Try using .loc[row_indexer,col_indexer] = value instead\n",
      "\n",
      "See the caveats in the documentation: https://pandas.pydata.org/pandas-docs/stable/user_guide/indexing.html#returning-a-view-versus-a-copy\n",
      "  anime_1[\"Producers\"] = anime_1[\"Producers\"].apply(space)\n"
     ]
    }
   ],
   "source": [
    "# For Producers\n",
    "anime_1[\"Producers\"] = anime_1[\"Producers\"].apply(space)"
   ]
  },
  {
   "cell_type": "code",
   "execution_count": 9,
   "id": "f7ec9b57",
   "metadata": {},
   "outputs": [
    {
     "name": "stderr",
     "output_type": "stream",
     "text": [
      "C:\\Users\\PRITAM VERMA\\AppData\\Local\\Temp\\ipykernel_10396\\3232871381.py:2: SettingWithCopyWarning: \n",
      "A value is trying to be set on a copy of a slice from a DataFrame.\n",
      "Try using .loc[row_indexer,col_indexer] = value instead\n",
      "\n",
      "See the caveats in the documentation: https://pandas.pydata.org/pandas-docs/stable/user_guide/indexing.html#returning-a-view-versus-a-copy\n",
      "  anime_1[\"Genres\"] = anime_1[\"Genres\"].apply(space)\n",
      "C:\\Users\\PRITAM VERMA\\AppData\\Local\\Temp\\ipykernel_10396\\3232871381.py:5: SettingWithCopyWarning: \n",
      "A value is trying to be set on a copy of a slice from a DataFrame.\n",
      "Try using .loc[row_indexer,col_indexer] = value instead\n",
      "\n",
      "See the caveats in the documentation: https://pandas.pydata.org/pandas-docs/stable/user_guide/indexing.html#returning-a-view-versus-a-copy\n",
      "  anime_1[\"Licensors\"] = anime_1[\"Licensors\"].apply(space)\n",
      "C:\\Users\\PRITAM VERMA\\AppData\\Local\\Temp\\ipykernel_10396\\3232871381.py:8: SettingWithCopyWarning: \n",
      "A value is trying to be set on a copy of a slice from a DataFrame.\n",
      "Try using .loc[row_indexer,col_indexer] = value instead\n",
      "\n",
      "See the caveats in the documentation: https://pandas.pydata.org/pandas-docs/stable/user_guide/indexing.html#returning-a-view-versus-a-copy\n",
      "  anime_1[\"Studios\"] = anime_1[\"Studios\"].apply(space)\n"
     ]
    }
   ],
   "source": [
    "# For Genres\n",
    "anime_1[\"Genres\"] = anime_1[\"Genres\"].apply(space)\n",
    "\n",
    "# For Licensors\n",
    "anime_1[\"Licensors\"] = anime_1[\"Licensors\"].apply(space)\n",
    "\n",
    "# For Studios\n",
    "anime_1[\"Studios\"] = anime_1[\"Studios\"].apply(space)"
   ]
  },
  {
   "cell_type": "code",
   "execution_count": 10,
   "id": "8a4aa0a2",
   "metadata": {},
   "outputs": [
    {
     "data": {
      "text/html": [
       "<div>\n",
       "<style scoped>\n",
       "    .dataframe tbody tr th:only-of-type {\n",
       "        vertical-align: middle;\n",
       "    }\n",
       "\n",
       "    .dataframe tbody tr th {\n",
       "        vertical-align: top;\n",
       "    }\n",
       "\n",
       "    .dataframe thead th {\n",
       "        text-align: right;\n",
       "    }\n",
       "</style>\n",
       "<table border=\"1\" class=\"dataframe\">\n",
       "  <thead>\n",
       "    <tr style=\"text-align: right;\">\n",
       "      <th></th>\n",
       "      <th>Name</th>\n",
       "      <th>Genres</th>\n",
       "      <th>Producers</th>\n",
       "      <th>Licensors</th>\n",
       "      <th>Studios</th>\n",
       "    </tr>\n",
       "  </thead>\n",
       "  <tbody>\n",
       "    <tr>\n",
       "      <th>0</th>\n",
       "      <td>Cowboy Bebop</td>\n",
       "      <td>Action,Adventure,Comedy,Drama,Sci-Fi,Space</td>\n",
       "      <td>BandaiVisual</td>\n",
       "      <td>Funimation,BandaiEntertainment</td>\n",
       "      <td>Sunrise</td>\n",
       "    </tr>\n",
       "    <tr>\n",
       "      <th>1</th>\n",
       "      <td>Cowboy Bebop: Tengoku no Tobira</td>\n",
       "      <td>Action,Drama,Mystery,Sci-Fi,Space</td>\n",
       "      <td>Sunrise,BandaiVisual</td>\n",
       "      <td>SonyPicturesEntertainment</td>\n",
       "      <td>Bones</td>\n",
       "    </tr>\n",
       "    <tr>\n",
       "      <th>2</th>\n",
       "      <td>Trigun</td>\n",
       "      <td>Action,Sci-Fi,Adventure,Comedy,Drama,Shounen</td>\n",
       "      <td>VictorEntertainment</td>\n",
       "      <td>Funimation,GeneonEntertainmentUSA</td>\n",
       "      <td>Madhouse</td>\n",
       "    </tr>\n",
       "    <tr>\n",
       "      <th>3</th>\n",
       "      <td>Witch Hunter Robin</td>\n",
       "      <td>Action,Mystery,Police,Supernatural,Drama,Magic</td>\n",
       "      <td>TVTokyo,BandaiVisual,Dentsu,VictorEntertainment</td>\n",
       "      <td>Funimation,BandaiEntertainment</td>\n",
       "      <td>Sunrise</td>\n",
       "    </tr>\n",
       "    <tr>\n",
       "      <th>4</th>\n",
       "      <td>Bouken Ou Beet</td>\n",
       "      <td>Adventure,Fantasy,Shounen,Supernatural</td>\n",
       "      <td>TVTokyo,Dentsu</td>\n",
       "      <td>Unknown</td>\n",
       "      <td>ToeiAnimation</td>\n",
       "    </tr>\n",
       "  </tbody>\n",
       "</table>\n",
       "</div>"
      ],
      "text/plain": [
       "                              Name  \\\n",
       "0                     Cowboy Bebop   \n",
       "1  Cowboy Bebop: Tengoku no Tobira   \n",
       "2                           Trigun   \n",
       "3               Witch Hunter Robin   \n",
       "4                   Bouken Ou Beet   \n",
       "\n",
       "                                           Genres  \\\n",
       "0      Action,Adventure,Comedy,Drama,Sci-Fi,Space   \n",
       "1               Action,Drama,Mystery,Sci-Fi,Space   \n",
       "2    Action,Sci-Fi,Adventure,Comedy,Drama,Shounen   \n",
       "3  Action,Mystery,Police,Supernatural,Drama,Magic   \n",
       "4          Adventure,Fantasy,Shounen,Supernatural   \n",
       "\n",
       "                                         Producers  \\\n",
       "0                                     BandaiVisual   \n",
       "1                             Sunrise,BandaiVisual   \n",
       "2                              VictorEntertainment   \n",
       "3  TVTokyo,BandaiVisual,Dentsu,VictorEntertainment   \n",
       "4                                   TVTokyo,Dentsu   \n",
       "\n",
       "                           Licensors        Studios  \n",
       "0     Funimation,BandaiEntertainment        Sunrise  \n",
       "1          SonyPicturesEntertainment          Bones  \n",
       "2  Funimation,GeneonEntertainmentUSA       Madhouse  \n",
       "3     Funimation,BandaiEntertainment        Sunrise  \n",
       "4                            Unknown  ToeiAnimation  "
      ]
     },
     "execution_count": 10,
     "metadata": {},
     "output_type": "execute_result"
    }
   ],
   "source": [
    "anime_1.head()"
   ]
  },
  {
   "cell_type": "code",
   "execution_count": 11,
   "id": "abe8b113",
   "metadata": {},
   "outputs": [
    {
     "name": "stderr",
     "output_type": "stream",
     "text": [
      "C:\\Users\\PRITAM VERMA\\AppData\\Local\\Temp\\ipykernel_10396\\271936430.py:1: SettingWithCopyWarning: \n",
      "A value is trying to be set on a copy of a slice from a DataFrame.\n",
      "Try using .loc[row_indexer,col_indexer] = value instead\n",
      "\n",
      "See the caveats in the documentation: https://pandas.pydata.org/pandas-docs/stable/user_guide/indexing.html#returning-a-view-versus-a-copy\n",
      "  anime_1[\"lable\"] = anime_1[\"Genres\"] +\",\"+ anime_1[\"Producers\"] +\",\"+ anime_1[\"Licensors\"] +\",\"+ anime_1[\"Studios\"]\n"
     ]
    }
   ],
   "source": [
    "anime_1[\"lable\"] = anime_1[\"Genres\"] +\",\"+ anime_1[\"Producers\"] +\",\"+ anime_1[\"Licensors\"] +\",\"+ anime_1[\"Studios\"]\n"
   ]
  },
  {
   "cell_type": "code",
   "execution_count": 12,
   "id": "55558aaf",
   "metadata": {},
   "outputs": [
    {
     "data": {
      "text/html": [
       "<div>\n",
       "<style scoped>\n",
       "    .dataframe tbody tr th:only-of-type {\n",
       "        vertical-align: middle;\n",
       "    }\n",
       "\n",
       "    .dataframe tbody tr th {\n",
       "        vertical-align: top;\n",
       "    }\n",
       "\n",
       "    .dataframe thead th {\n",
       "        text-align: right;\n",
       "    }\n",
       "</style>\n",
       "<table border=\"1\" class=\"dataframe\">\n",
       "  <thead>\n",
       "    <tr style=\"text-align: right;\">\n",
       "      <th></th>\n",
       "      <th>Name</th>\n",
       "      <th>lable</th>\n",
       "    </tr>\n",
       "  </thead>\n",
       "  <tbody>\n",
       "    <tr>\n",
       "      <th>0</th>\n",
       "      <td>Cowboy Bebop</td>\n",
       "      <td>Action,Adventure,Comedy,Drama,Sci-Fi,Space,Ban...</td>\n",
       "    </tr>\n",
       "    <tr>\n",
       "      <th>1</th>\n",
       "      <td>Cowboy Bebop: Tengoku no Tobira</td>\n",
       "      <td>Action,Drama,Mystery,Sci-Fi,Space,Sunrise,Band...</td>\n",
       "    </tr>\n",
       "    <tr>\n",
       "      <th>2</th>\n",
       "      <td>Trigun</td>\n",
       "      <td>Action,Sci-Fi,Adventure,Comedy,Drama,Shounen,V...</td>\n",
       "    </tr>\n",
       "    <tr>\n",
       "      <th>3</th>\n",
       "      <td>Witch Hunter Robin</td>\n",
       "      <td>Action,Mystery,Police,Supernatural,Drama,Magic...</td>\n",
       "    </tr>\n",
       "    <tr>\n",
       "      <th>4</th>\n",
       "      <td>Bouken Ou Beet</td>\n",
       "      <td>Adventure,Fantasy,Shounen,Supernatural,TVTokyo...</td>\n",
       "    </tr>\n",
       "  </tbody>\n",
       "</table>\n",
       "</div>"
      ],
      "text/plain": [
       "                              Name  \\\n",
       "0                     Cowboy Bebop   \n",
       "1  Cowboy Bebop: Tengoku no Tobira   \n",
       "2                           Trigun   \n",
       "3               Witch Hunter Robin   \n",
       "4                   Bouken Ou Beet   \n",
       "\n",
       "                                               lable  \n",
       "0  Action,Adventure,Comedy,Drama,Sci-Fi,Space,Ban...  \n",
       "1  Action,Drama,Mystery,Sci-Fi,Space,Sunrise,Band...  \n",
       "2  Action,Sci-Fi,Adventure,Comedy,Drama,Shounen,V...  \n",
       "3  Action,Mystery,Police,Supernatural,Drama,Magic...  \n",
       "4  Adventure,Fantasy,Shounen,Supernatural,TVTokyo...  "
      ]
     },
     "execution_count": 12,
     "metadata": {},
     "output_type": "execute_result"
    }
   ],
   "source": [
    "anime_1  = anime_1.drop([\"Genres\",\"Producers\",\"Licensors\",\"Studios\"],axis=1)\n",
    "anime_1.head()"
   ]
  },
  {
   "cell_type": "code",
   "execution_count": 13,
   "id": "f50649a8",
   "metadata": {},
   "outputs": [],
   "source": [
    "# Checking some basic paremeters"
   ]
  },
  {
   "cell_type": "code",
   "execution_count": 14,
   "id": "e34e9313",
   "metadata": {},
   "outputs": [
    {
     "data": {
      "text/plain": [
       "(17562, 2)"
      ]
     },
     "execution_count": 14,
     "metadata": {},
     "output_type": "execute_result"
    }
   ],
   "source": [
    "anime_1.shape"
   ]
  },
  {
   "cell_type": "code",
   "execution_count": 15,
   "id": "9a63de0b",
   "metadata": {},
   "outputs": [
    {
     "data": {
      "text/plain": [
       "Name     0\n",
       "lable    0\n",
       "dtype: int64"
      ]
     },
     "execution_count": 15,
     "metadata": {},
     "output_type": "execute_result"
    }
   ],
   "source": [
    "anime_1.isnull().sum()"
   ]
  },
  {
   "cell_type": "code",
   "execution_count": 16,
   "id": "74695f4e",
   "metadata": {},
   "outputs": [
    {
     "data": {
      "text/plain": [
       "1"
      ]
     },
     "execution_count": 16,
     "metadata": {},
     "output_type": "execute_result"
    }
   ],
   "source": [
    "anime_1.duplicated().sum()"
   ]
  },
  {
   "cell_type": "code",
   "execution_count": 17,
   "id": "afb24da6",
   "metadata": {},
   "outputs": [],
   "source": [
    "anime_1.drop_duplicates(inplace= True)"
   ]
  },
  {
   "cell_type": "code",
   "execution_count": 18,
   "id": "3304b7ca",
   "metadata": {},
   "outputs": [
    {
     "data": {
      "text/plain": [
       "0"
      ]
     },
     "execution_count": 18,
     "metadata": {},
     "output_type": "execute_result"
    }
   ],
   "source": [
    "anime_1.duplicated().sum()"
   ]
  },
  {
   "cell_type": "code",
   "execution_count": null,
   "id": "56bf1710",
   "metadata": {},
   "outputs": [],
   "source": []
  },
  {
   "cell_type": "code",
   "execution_count": 19,
   "id": "6d4e7a2f",
   "metadata": {},
   "outputs": [],
   "source": [
    "# The next taxk would be Stemming the Data \n",
    "# Before Stemming we need to lower_case the letters in lable and replacing the \",\" with \" \".\n",
    "\n",
    "anime_1[\"lable\"] = anime_1[\"lable\"].apply(lambda x:x.replace(\",\",\" \"))\n",
    "anime_1[\"lable\"] = anime_1[\"lable\"].apply(lambda x:x.lower())"
   ]
  },
  {
   "cell_type": "code",
   "execution_count": 20,
   "id": "636e5088",
   "metadata": {},
   "outputs": [
    {
     "data": {
      "text/plain": [
       "'action adventure comedy drama sci-fi space bandaivisual funimation bandaientertainment sunrise'"
      ]
     },
     "execution_count": 20,
     "metadata": {},
     "output_type": "execute_result"
    }
   ],
   "source": [
    "anime_1['lable'][0]"
   ]
  },
  {
   "cell_type": "code",
   "execution_count": 21,
   "id": "6a19cf27",
   "metadata": {
    "scrolled": true
   },
   "outputs": [
    {
     "data": {
      "text/plain": [
       "'Action Adventure Comedy Drama Sci-Fi Space'"
      ]
     },
     "execution_count": 21,
     "metadata": {},
     "output_type": "execute_result"
    }
   ],
   "source": [
    "y= \"Action,Adventure,Comedy,Drama,Sci-Fi,Space\".replace(\",\",\" \")\n",
    "y"
   ]
  },
  {
   "cell_type": "code",
   "execution_count": null,
   "id": "6a25d71b",
   "metadata": {},
   "outputs": [],
   "source": []
  },
  {
   "cell_type": "code",
   "execution_count": null,
   "id": "d9d19149",
   "metadata": {},
   "outputs": [],
   "source": []
  },
  {
   "cell_type": "code",
   "execution_count": 22,
   "id": "3cd8e652",
   "metadata": {},
   "outputs": [],
   "source": [
    "# Now applying Stemming.\n",
    "import nltk\n",
    "from nltk.stem import PorterStemmer"
   ]
  },
  {
   "cell_type": "code",
   "execution_count": 23,
   "id": "e710394f",
   "metadata": {},
   "outputs": [],
   "source": [
    "stemmer = PorterStemmer()"
   ]
  },
  {
   "cell_type": "code",
   "execution_count": 24,
   "id": "c99ae64c",
   "metadata": {},
   "outputs": [],
   "source": [
    "def stemmed(doc):\n",
    "    spt=[]\n",
    "    for i in doc.split():\n",
    "        spt.append(stemmer.stem(i))\n",
    "    return \" \".join(spt)       "
   ]
  },
  {
   "cell_type": "code",
   "execution_count": 25,
   "id": "acc0ac71",
   "metadata": {},
   "outputs": [
    {
     "data": {
      "text/plain": [
       "'action adventur comedi drama sci-fi space bandaivisu funim bandaientertain sunris'"
      ]
     },
     "execution_count": 25,
     "metadata": {},
     "output_type": "execute_result"
    }
   ],
   "source": [
    "stemmed('action adventure comedy drama sci-fi space bandaivisual funimation bandaientertainment sunrise')"
   ]
  },
  {
   "cell_type": "code",
   "execution_count": 26,
   "id": "b549354f",
   "metadata": {},
   "outputs": [],
   "source": [
    "anime_1['lable'] = anime_1['lable'].apply(stemmed)"
   ]
  },
  {
   "cell_type": "code",
   "execution_count": 27,
   "id": "6f61fd7a",
   "metadata": {},
   "outputs": [
    {
     "data": {
      "text/html": [
       "<div>\n",
       "<style scoped>\n",
       "    .dataframe tbody tr th:only-of-type {\n",
       "        vertical-align: middle;\n",
       "    }\n",
       "\n",
       "    .dataframe tbody tr th {\n",
       "        vertical-align: top;\n",
       "    }\n",
       "\n",
       "    .dataframe thead th {\n",
       "        text-align: right;\n",
       "    }\n",
       "</style>\n",
       "<table border=\"1\" class=\"dataframe\">\n",
       "  <thead>\n",
       "    <tr style=\"text-align: right;\">\n",
       "      <th></th>\n",
       "      <th>Name</th>\n",
       "      <th>lable</th>\n",
       "    </tr>\n",
       "  </thead>\n",
       "  <tbody>\n",
       "    <tr>\n",
       "      <th>0</th>\n",
       "      <td>Cowboy Bebop</td>\n",
       "      <td>action adventur comedi drama sci-fi space band...</td>\n",
       "    </tr>\n",
       "    <tr>\n",
       "      <th>1</th>\n",
       "      <td>Cowboy Bebop: Tengoku no Tobira</td>\n",
       "      <td>action drama mysteri sci-fi space sunris banda...</td>\n",
       "    </tr>\n",
       "    <tr>\n",
       "      <th>2</th>\n",
       "      <td>Trigun</td>\n",
       "      <td>action sci-fi adventur comedi drama shounen vi...</td>\n",
       "    </tr>\n",
       "    <tr>\n",
       "      <th>3</th>\n",
       "      <td>Witch Hunter Robin</td>\n",
       "      <td>action mysteri polic supernatur drama magic tv...</td>\n",
       "    </tr>\n",
       "    <tr>\n",
       "      <th>4</th>\n",
       "      <td>Bouken Ou Beet</td>\n",
       "      <td>adventur fantasi shounen supernatur tvtokyo de...</td>\n",
       "    </tr>\n",
       "    <tr>\n",
       "      <th>...</th>\n",
       "      <td>...</td>\n",
       "      <td>...</td>\n",
       "    </tr>\n",
       "    <tr>\n",
       "      <th>17557</th>\n",
       "      <td>Daomu Biji Zhi Qinling Shen Shu</td>\n",
       "      <td>adventur mysteri supernatur unknown unknown un...</td>\n",
       "    </tr>\n",
       "    <tr>\n",
       "      <th>17558</th>\n",
       "      <td>Mieruko-chan</td>\n",
       "      <td>comedi horror supernatur kadokawa unknown passion</td>\n",
       "    </tr>\n",
       "    <tr>\n",
       "      <th>17559</th>\n",
       "      <td>Higurashi no Naku Koro ni Sotsu</td>\n",
       "      <td>mysteri dementia horror psycholog supernatur t...</td>\n",
       "    </tr>\n",
       "    <tr>\n",
       "      <th>17560</th>\n",
       "      <td>Yama no Susume: Next Summit</td>\n",
       "      <td>adventur sliceoflif comedi kadokawa unknown 8bit</td>\n",
       "    </tr>\n",
       "    <tr>\n",
       "      <th>17561</th>\n",
       "      <td>Scarlet Nexus</td>\n",
       "      <td>action fantasi bandainamcoart unknown sunris</td>\n",
       "    </tr>\n",
       "  </tbody>\n",
       "</table>\n",
       "<p>17561 rows × 2 columns</p>\n",
       "</div>"
      ],
      "text/plain": [
       "                                  Name  \\\n",
       "0                         Cowboy Bebop   \n",
       "1      Cowboy Bebop: Tengoku no Tobira   \n",
       "2                               Trigun   \n",
       "3                   Witch Hunter Robin   \n",
       "4                       Bouken Ou Beet   \n",
       "...                                ...   \n",
       "17557  Daomu Biji Zhi Qinling Shen Shu   \n",
       "17558                     Mieruko-chan   \n",
       "17559  Higurashi no Naku Koro ni Sotsu   \n",
       "17560      Yama no Susume: Next Summit   \n",
       "17561                    Scarlet Nexus   \n",
       "\n",
       "                                                   lable  \n",
       "0      action adventur comedi drama sci-fi space band...  \n",
       "1      action drama mysteri sci-fi space sunris banda...  \n",
       "2      action sci-fi adventur comedi drama shounen vi...  \n",
       "3      action mysteri polic supernatur drama magic tv...  \n",
       "4      adventur fantasi shounen supernatur tvtokyo de...  \n",
       "...                                                  ...  \n",
       "17557  adventur mysteri supernatur unknown unknown un...  \n",
       "17558  comedi horror supernatur kadokawa unknown passion  \n",
       "17559  mysteri dementia horror psycholog supernatur t...  \n",
       "17560   adventur sliceoflif comedi kadokawa unknown 8bit  \n",
       "17561       action fantasi bandainamcoart unknown sunris  \n",
       "\n",
       "[17561 rows x 2 columns]"
      ]
     },
     "execution_count": 27,
     "metadata": {},
     "output_type": "execute_result"
    }
   ],
   "source": [
    "anime_1"
   ]
  },
  {
   "cell_type": "code",
   "execution_count": 28,
   "id": "77a38a22",
   "metadata": {},
   "outputs": [],
   "source": [
    "# converting lables into vectors\n",
    "from sklearn.feature_extraction.text import TfidfVectorizer"
   ]
  },
  {
   "cell_type": "code",
   "execution_count": 29,
   "id": "a9538654",
   "metadata": {},
   "outputs": [],
   "source": [
    "vectors = TfidfVectorizer(max_features=100,stop_words=(\"english\"))"
   ]
  },
  {
   "cell_type": "code",
   "execution_count": 30,
   "id": "906f0025",
   "metadata": {},
   "outputs": [],
   "source": [
    "anime_vec = vectors.fit_transform(anime_1[\"lable\"]).toarray()"
   ]
  },
  {
   "cell_type": "code",
   "execution_count": 31,
   "id": "02c194b5",
   "metadata": {},
   "outputs": [
    {
     "data": {
      "text/plain": [
       "array([[0.        , 0.20375757, 0.22599248, ..., 0.        , 0.        ,\n",
       "        0.        ],\n",
       "       [0.        , 0.20666652, 0.        , ..., 0.        , 0.        ,\n",
       "        0.        ],\n",
       "       [0.        , 0.22619563, 0.25087909, ..., 0.        , 0.        ,\n",
       "        0.        ],\n",
       "       ...,\n",
       "       [0.        , 0.        , 0.        , ..., 0.        , 0.        ,\n",
       "        0.        ],\n",
       "       [0.        , 0.        , 0.3642959 , ..., 0.        , 0.        ,\n",
       "        0.        ],\n",
       "       [0.        , 0.42164851, 0.        , ..., 0.        , 0.        ,\n",
       "        0.        ]])"
      ]
     },
     "execution_count": 31,
     "metadata": {},
     "output_type": "execute_result"
    }
   ],
   "source": [
    "anime_vec"
   ]
  },
  {
   "cell_type": "code",
   "execution_count": 32,
   "id": "dec0f103",
   "metadata": {},
   "outputs": [
    {
     "data": {
      "text/plain": [
       "(17561, 100)"
      ]
     },
     "execution_count": 32,
     "metadata": {},
     "output_type": "execute_result"
    }
   ],
   "source": [
    "anime_vec.shape"
   ]
  },
  {
   "cell_type": "code",
   "execution_count": 33,
   "id": "66fd18eb",
   "metadata": {},
   "outputs": [],
   "source": [
    "# To get similarity score for lables\n",
    "from sklearn.metrics.pairwise import cosine_similarity"
   ]
  },
  {
   "cell_type": "code",
   "execution_count": 34,
   "id": "a20f8727",
   "metadata": {},
   "outputs": [],
   "source": [
    "similar_score = cosine_similarity(anime_vec)"
   ]
  },
  {
   "cell_type": "code",
   "execution_count": 35,
   "id": "ba14b1ec",
   "metadata": {},
   "outputs": [
    {
     "data": {
      "text/plain": [
       "(17561, 17561)"
      ]
     },
     "execution_count": 35,
     "metadata": {},
     "output_type": "execute_result"
    }
   ],
   "source": [
    "similar_score.shape"
   ]
  },
  {
   "cell_type": "code",
   "execution_count": 36,
   "id": "805aa704",
   "metadata": {},
   "outputs": [],
   "source": [
    "# Recomender system (Shows top 10 related anime TV-show/Movies based on their [Genres,producers,studio,etc.)\n",
    "\n",
    "def recomend(anime):\n",
    "    anime_index = anime_1[anime_1[\"Name\"] == anime].index[0]\n",
    "    top_10 = sorted(enumerate(similar_score[anime_index]),key = lambda x:x[1],reverse=True)[1:11]\n",
    "    \n",
    "    for index in top_10:\n",
    "        print(anime_1[\"Name\"][index[0]])"
   ]
  }
 ],
 "metadata": {
  "kernelspec": {
   "display_name": "Python 3 (ipykernel)",
   "language": "python",
   "name": "python3"
  },
  "language_info": {
   "codemirror_mode": {
    "name": "ipython",
    "version": 3
   },
   "file_extension": ".py",
   "mimetype": "text/x-python",
   "name": "python",
   "nbconvert_exporter": "python",
   "pygments_lexer": "ipython3",
   "version": "3.9.13"
  }
 },
 "nbformat": 4,
 "nbformat_minor": 5
}
